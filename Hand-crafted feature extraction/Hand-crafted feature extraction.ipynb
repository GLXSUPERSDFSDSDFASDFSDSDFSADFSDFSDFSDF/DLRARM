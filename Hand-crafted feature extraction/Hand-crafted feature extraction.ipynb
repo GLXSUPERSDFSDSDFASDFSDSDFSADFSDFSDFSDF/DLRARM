{
 "cells": [
  {
   "cell_type": "code",
   "execution_count": 6,
   "id": "567f8e99",
   "metadata": {},
   "outputs": [
    {
     "ename": "NameError",
     "evalue": "name 'np' is not defined",
     "output_type": "error",
     "traceback": [
      "\u001b[1;31m---------------------------------------------------------------------------\u001b[0m",
      "\u001b[1;31mNameError\u001b[0m                                 Traceback (most recent call last)",
      "\u001b[1;32m~\\AppData\\Local\\Temp\\ipykernel_6168\\600589636.py\u001b[0m in \u001b[0;36m<module>\u001b[1;34m\u001b[0m\n\u001b[0;32m      2\u001b[0m \u001b[1;31m# However, if we increase α to a much higher value, we see that literally none of the features are being used\u001b[0m\u001b[1;33m\u001b[0m\u001b[1;33m\u001b[0m\u001b[0m\n\u001b[0;32m      3\u001b[0m \u001b[1;31m# ie. all features weight will be 0\u001b[0m\u001b[1;33m\u001b[0m\u001b[1;33m\u001b[0m\u001b[0m\n\u001b[1;32m----> 4\u001b[1;33m \u001b[0malphas\u001b[0m \u001b[1;33m=\u001b[0m \u001b[0mnp\u001b[0m\u001b[1;33m.\u001b[0m\u001b[0mlogspace\u001b[0m\u001b[1;33m(\u001b[0m\u001b[1;33m-\u001b[0m\u001b[1;36m10\u001b[0m\u001b[1;33m,\u001b[0m \u001b[1;36m1\u001b[0m\u001b[1;33m,\u001b[0m \u001b[1;36m100\u001b[0m\u001b[1;33m,\u001b[0m \u001b[0mbase\u001b[0m \u001b[1;33m=\u001b[0m \u001b[1;36m10\u001b[0m\u001b[1;33m)\u001b[0m\u001b[1;33m\u001b[0m\u001b[1;33m\u001b[0m\u001b[0m\n\u001b[0m",
      "\u001b[1;31mNameError\u001b[0m: name 'np' is not defined"
     ]
    }
   ],
   "source": [
    "pip install pyradiomics\n",
    "import os\n",
    "import radiomics\n",
    "from radiomics import featureextractor\n",
    "\n",
    "config_file = \"config_file.yaml\"\n",
    "\n",
    "image_path = \"\n",
    "\n",
    "label_path = \"\"\n",
    "\n",
    "extractor = featureextractor.RadiomicsFeatureExtractor(config_file)\n",
    "\n",
    "extractor.settings.set(\"ImageFilePath\", image_path)\n",
    "if label_path:\n",
    "    extractor.settings.set(\"MaskFilePath\", label_path)\n",
    "\n",
    "result = extractor.execute()\n",
    "\n",
    "for feature_name in result.keys():\n",
    "    print(f\"{feature_name}: {result[feature_name]}\")"
   ]
  },
  {
   "cell_type": "code",
   "execution_count": null,
   "id": "39eb4768",
   "metadata": {},
   "outputs": [],
   "source": []
  }
 ],
 "metadata": {
  "kernelspec": {
   "display_name": "Python 3 (ipykernel)",
   "language": "python",
   "name": "python3"
  },
  "language_info": {
   "codemirror_mode": {
    "name": "ipython",
    "version": 3
   },
   "file_extension": ".py",
   "mimetype": "text/x-python",
   "name": "python",
   "nbconvert_exporter": "python",
   "pygments_lexer": "ipython3",
   "version": "3.9.13"
  }
 },
 "nbformat": 4,
 "nbformat_minor": 5
}
