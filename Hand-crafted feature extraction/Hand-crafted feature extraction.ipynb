{
 "cells": [
  {
   "cell_type": "code",
   "execution_count": null,
   "id": "39eb4768",
   "metadata": {},
   "outputs": [],
   "source": [
    "pip install pyradiomics\n",
    "import os\n",
    "import radiomics\n",
    "from radiomics import featureextractor\n",
    "\n",
    "config_file = \"config_file.yaml\"\n",
    "\n",
    "image_path = \"\n",
    "\n",
    "label_path = \"\"\n",
    "\n",
    "extractor = featureextractor.RadiomicsFeatureExtractor(config_file)\n",
    "\n",
    "extractor.settings.set(\"ImageFilePath\", image_path)\n",
    "if label_path:\n",
    "    extractor.settings.set(\"MaskFilePath\", label_path)\n",
    "\n",
    "result = extractor.execute()\n",
    "\n",
    "for feature_name in result.keys():\n",
    "    print(f\"{feature_name}: {result[feature_name]}\")"
   ]
  }
 ],
 "metadata": {
  "kernelspec": {
   "display_name": "Python 3 (ipykernel)",
   "language": "python",
   "name": "python3"
  },
  "language_info": {
   "codemirror_mode": {
    "name": "ipython",
    "version": 3
   },
   "file_extension": ".py",
   "mimetype": "text/x-python",
   "name": "python",
   "nbconvert_exporter": "python",
   "pygments_lexer": "ipython3",
   "version": "3.9.13"
  }
 },
 "nbformat": 4,
 "nbformat_minor": 5
}
