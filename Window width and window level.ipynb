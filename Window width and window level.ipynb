{
 "cells": [
  {
   "cell_type": "code",
   "execution_count": null,
   "id": "83d08797",
   "metadata": {
    "pycharm": {
     "name": "#%%\n"
    }
   },
   "outputs": [],
   "source": [
    "import os\n",
    "import SimpleITK as sitk\n",
    "import numpy as np\n",
    "\n",
    "folder_path = r\"\"\n",
    "output_folder = r\"\"\n",
    "\n",
    "\n",
    "ct_files = [f for f in os.listdir(folder_path) if f.endswith(\".nii.gz\")]\n",
    "\n",
    "\n",
    "window_width = 200\n",
    "window_level =30\n",
    "\n",
    "\n",
    "for ct_file in ct_files:\n",
    "\n",
    "    image = sitk.ReadImage(os.path.join(folder_path, ct_file))\n",
    "\n",
    "\n",
    "    intensity_windowing_filter = sitk.IntensityWindowingImageFilter()\n",
    "    intensity_windowing_filter.SetWindowMinimum(30-200/2)\n",
    "    intensity_windowing_filter.SetWindowMaximum(30+200/2)\n",
    "    windowed_image = intensity_windowing_filter.Execute(image)\n",
    "\n",
    "\n",
    "\n",
    "    sitk.WriteImage(windowed_image, os.path.join(output_folder, ct_file))"
   ]
  },
  {
   "cell_type": "code",
   "execution_count": null,
   "id": "35e10733",
   "metadata": {},
   "outputs": [],
   "source": []
  }
 ],
 "metadata": {
  "kernelspec": {
   "display_name": "Python 3 (ipykernel)",
   "language": "python",
   "name": "python3"
  },
  "language_info": {
   "codemirror_mode": {
    "name": "ipython",
    "version": 3
   },
   "file_extension": ".py",
   "mimetype": "text/x-python",
   "name": "python",
   "nbconvert_exporter": "python",
   "pygments_lexer": "ipython3",
   "version": "3.9.13"
  }
 },
 "nbformat": 4,
 "nbformat_minor": 5
}
