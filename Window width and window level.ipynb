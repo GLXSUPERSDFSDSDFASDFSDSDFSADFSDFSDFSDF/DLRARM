{
 "cells": [
  {
   "cell_type": "code",
   "execution_count": 1,
   "id": "83d08797",
   "metadata": {
    "pycharm": {
     "name": "#%%\n"
    }
   },
   "outputs": [
    {
     "ename": "RuntimeError",
     "evalue": "Exception thrown in SimpleITK ImageFileReader_Execute: D:\\a\\1\\sitk-build\\ITK\\Modules\\IO\\NIFTI\\src\\itkNiftiImageIO.cxx:1980:\nITK ERROR: ITK only supports orthonormal direction cosines.  No orthonormal definition found!",
     "output_type": "error",
     "traceback": [
      "\u001b[1;31m---------------------------------------------------------------------------\u001b[0m",
      "\u001b[1;31mRuntimeError\u001b[0m                              Traceback (most recent call last)",
      "\u001b[1;32m~\\AppData\\Local\\Temp\\ipykernel_17952\\2256272060.py\u001b[0m in \u001b[0;36m<module>\u001b[1;34m\u001b[0m\n\u001b[0;32m     17\u001b[0m \u001b[1;32mfor\u001b[0m \u001b[0mct_file\u001b[0m \u001b[1;32min\u001b[0m \u001b[0mct_files\u001b[0m\u001b[1;33m:\u001b[0m\u001b[1;33m\u001b[0m\u001b[1;33m\u001b[0m\u001b[0m\n\u001b[0;32m     18\u001b[0m     \u001b[1;31m# 读取 CT 文件\u001b[0m\u001b[1;33m\u001b[0m\u001b[1;33m\u001b[0m\u001b[0m\n\u001b[1;32m---> 19\u001b[1;33m     \u001b[0mimage\u001b[0m \u001b[1;33m=\u001b[0m \u001b[0msitk\u001b[0m\u001b[1;33m.\u001b[0m\u001b[0mReadImage\u001b[0m\u001b[1;33m(\u001b[0m\u001b[0mos\u001b[0m\u001b[1;33m.\u001b[0m\u001b[0mpath\u001b[0m\u001b[1;33m.\u001b[0m\u001b[0mjoin\u001b[0m\u001b[1;33m(\u001b[0m\u001b[0mfolder_path\u001b[0m\u001b[1;33m,\u001b[0m \u001b[0mct_file\u001b[0m\u001b[1;33m)\u001b[0m\u001b[1;33m)\u001b[0m\u001b[1;33m\u001b[0m\u001b[1;33m\u001b[0m\u001b[0m\n\u001b[0m\u001b[0;32m     20\u001b[0m \u001b[1;33m\u001b[0m\u001b[0m\n\u001b[0;32m     21\u001b[0m     \u001b[1;31m# 应用窗宽窗位\u001b[0m\u001b[1;33m\u001b[0m\u001b[1;33m\u001b[0m\u001b[0m\n",
      "\u001b[1;32m~\\AppData\\Roaming\\Python\\Python39\\site-packages\\SimpleITK\\extra.py\u001b[0m in \u001b[0;36mReadImage\u001b[1;34m(fileName, outputPixelType, imageIO)\u001b[0m\n\u001b[0;32m    344\u001b[0m     \u001b[0mreader\u001b[0m\u001b[1;33m.\u001b[0m\u001b[0mSetImageIO\u001b[0m\u001b[1;33m(\u001b[0m\u001b[0mimageIO\u001b[0m\u001b[1;33m)\u001b[0m\u001b[1;33m\u001b[0m\u001b[1;33m\u001b[0m\u001b[0m\n\u001b[0;32m    345\u001b[0m     \u001b[0mreader\u001b[0m\u001b[1;33m.\u001b[0m\u001b[0mSetOutputPixelType\u001b[0m\u001b[1;33m(\u001b[0m\u001b[0moutputPixelType\u001b[0m\u001b[1;33m)\u001b[0m\u001b[1;33m\u001b[0m\u001b[1;33m\u001b[0m\u001b[0m\n\u001b[1;32m--> 346\u001b[1;33m     \u001b[1;32mreturn\u001b[0m \u001b[0mreader\u001b[0m\u001b[1;33m.\u001b[0m\u001b[0mExecute\u001b[0m\u001b[1;33m(\u001b[0m\u001b[1;33m)\u001b[0m\u001b[1;33m\u001b[0m\u001b[1;33m\u001b[0m\u001b[0m\n\u001b[0m\u001b[0;32m    347\u001b[0m \u001b[1;33m\u001b[0m\u001b[0m\n\u001b[0;32m    348\u001b[0m \u001b[1;33m\u001b[0m\u001b[0m\n",
      "\u001b[1;32m~\\AppData\\Roaming\\Python\\Python39\\site-packages\\SimpleITK\\SimpleITK.py\u001b[0m in \u001b[0;36mExecute\u001b[1;34m(self)\u001b[0m\n\u001b[0;32m   8013\u001b[0m \u001b[1;33m\u001b[0m\u001b[0m\n\u001b[0;32m   8014\u001b[0m         \"\"\"\n\u001b[1;32m-> 8015\u001b[1;33m         \u001b[1;32mreturn\u001b[0m \u001b[0m_SimpleITK\u001b[0m\u001b[1;33m.\u001b[0m\u001b[0mImageFileReader_Execute\u001b[0m\u001b[1;33m(\u001b[0m\u001b[0mself\u001b[0m\u001b[1;33m)\u001b[0m\u001b[1;33m\u001b[0m\u001b[1;33m\u001b[0m\u001b[0m\n\u001b[0m\u001b[0;32m   8016\u001b[0m \u001b[1;33m\u001b[0m\u001b[0m\n\u001b[0;32m   8017\u001b[0m     \u001b[1;32mdef\u001b[0m \u001b[0mReadImageInformation\u001b[0m\u001b[1;33m(\u001b[0m\u001b[0mself\u001b[0m\u001b[1;33m)\u001b[0m\u001b[1;33m:\u001b[0m\u001b[1;33m\u001b[0m\u001b[1;33m\u001b[0m\u001b[0m\n",
      "\u001b[1;31mRuntimeError\u001b[0m: Exception thrown in SimpleITK ImageFileReader_Execute: D:\\a\\1\\sitk-build\\ITK\\Modules\\IO\\NIFTI\\src\\itkNiftiImageIO.cxx:1980:\nITK ERROR: ITK only supports orthonormal direction cosines.  No orthonormal definition found!"
     ]
    }
   ],
   "source": [
    "import os\n",
    "import SimpleITK as sitk\n",
    "import numpy as np\n",
    "\n",
    "folder_path = r\"\"\n",
    "output_folder = r\"\"\n",
    "\n",
    "\n",
    "ct_files = [f for f in os.listdir(folder_path) if f.endswith(\".nii.gz\")]\n",
    "\n",
    "\n",
    "window_width = 200\n",
    "window_level =30\n",
    "\n",
    "\n",
    "for ct_file in ct_files:\n",
    "\n",
    "    image = sitk.ReadImage(os.path.join(folder_path, ct_file))\n",
    "\n",
    "\n",
    "    intensity_windowing_filter = sitk.IntensityWindowingImageFilter()\n",
    "    intensity_windowing_filter.SetWindowMinimum(30-200/2)\n",
    "    intensity_windowing_filter.SetWindowMaximum(30+200/2)\n",
    "    windowed_image = intensity_windowing_filter.Execute(image)\n",
    "\n",
    "\n",
    "\n",
    "    sitk.WriteImage(windowed_image, os.path.join(output_folder, ct_file))"
   ]
  },
  {
   "cell_type": "code",
   "execution_count": 2,
   "id": "b83a315f",
   "metadata": {},
   "outputs": [],
   "source": [
    "import SimpleITK as sitk\n",
    "import os\n",
    "#只保存肝脏所在横截面\n",
    "# 设置输入文件夹的路径\n",
    "input_folder = r\"D:\\CT\\2_image=mask\\image\"\n",
    "\n",
    "# 设置输出文件夹的路径\n",
    "output_folder = r\"D:\\CT\\2_image=mask\\imag\"\n",
    "\n",
    "# 遍历文件夹中的所有文件\n",
    "for filename in os.listdir(input_folder):\n",
    "    # 只处理 .nii.gz 文件\n",
    "    if not filename.endswith(\".nii.gz\"):\n",
    "        continue\n",
    "    \n",
    "    # 读取原始 CT 文件\n",
    "    image = sitk.ReadImage(os.path.join(input_folder, filename))\n",
    "    \n",
    "    # 计算重采样的大小\n",
    "    desired_spacing = [3, 3, 3]\n",
    "    original_spacing = image.GetSpacing()\n",
    "    desired_size = [int(round(image.GetWidth() * (original_spacing[0] / desired_spacing[0]))),\n",
    "                    int(round(image.GetHeight() * (original_spacing[1] / desired_spacing[1]))),\n",
    "                    int(round(image.GetDepth() * (original_spacing[2] / desired_spacing[2])))]\n",
    "    \n",
    "    # 进行重采样\n",
    "    resampled_image = sitk.Resample(image, desired_size, sitk.Transform(),\n",
    "                                     sitk.sitkLinear, image.GetOrigin(), desired_spacing, image.GetDirection(), 0,\n",
    "                                     image.GetPixelIDValue())\n",
    "    \n",
    "    # 保存重采样后的图像\n",
    "    output_filename = os.path.join(output_folder, filename)\n",
    "    sitk.WriteImage(resampled_image, output_filename)"
   ]
  },
  {
   "cell_type": "code",
   "execution_count": null,
   "id": "35e10733",
   "metadata": {},
   "outputs": [],
   "source": []
  }
 ],
 "metadata": {
  "kernelspec": {
   "display_name": "Python 3 (ipykernel)",
   "language": "python",
   "name": "python3"
  },
  "language_info": {
   "codemirror_mode": {
    "name": "ipython",
    "version": 3
   },
   "file_extension": ".py",
   "mimetype": "text/x-python",
   "name": "python",
   "nbconvert_exporter": "python",
   "pygments_lexer": "ipython3",
   "version": "3.9.13"
  }
 },
 "nbformat": 4,
 "nbformat_minor": 5
}
